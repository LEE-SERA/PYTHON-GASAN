{
 "cells": [
  {
   "cell_type": "code",
   "execution_count": 1,
   "metadata": {},
   "outputs": [],
   "source": [
    "import matplotlib.pyplot as plt\n",
    "import numpy as np\n",
    "import pandas as pd"
   ]
  },
  {
   "cell_type": "code",
   "execution_count": 2,
   "metadata": {},
   "outputs": [
    {
     "data": {
      "text/plain": [
       "0    -0.255015\n",
       "10   -1.159043\n",
       "20   -1.328613\n",
       "30   -3.427114\n",
       "40   -2.273781\n",
       "50   -2.840478\n",
       "60   -3.903712\n",
       "70   -4.661428\n",
       "80   -5.599104\n",
       "90   -4.041088\n",
       "dtype: float64"
      ]
     },
     "execution_count": 2,
     "metadata": {},
     "output_type": "execute_result"
    }
   ],
   "source": [
    "s= pd.Series(np.random.randn(10).cumsum(),index =np.arange(0,100,10));s\n",
    "#cumsum 누적 합 "
   ]
  },
  {
   "cell_type": "code",
   "execution_count": 3,
   "metadata": {},
   "outputs": [
    {
     "data": {
      "text/plain": [
       "<matplotlib.axes._subplots.AxesSubplot at 0x24aaa120908>"
      ]
     },
     "execution_count": 3,
     "metadata": {},
     "output_type": "execute_result"
    },
    {
     "data": {
      "image/png": "[encoded data removed]",
      "text/plain": [
       "<Figure size 432x288 with 1 Axes>"
      ]
     },
     "metadata": {
      "needs_background": "light"
     },
     "output_type": "display_data"
    }
   ],
   "source": [
    "# Line Plot 그리기 \n",
    "s.plot()"
   ]
  },
  {
   "cell_type": "code",
   "execution_count": 6,
   "metadata": {},
   "outputs": [
    {
     "data": {
      "text/html": [
       "<div>\n",
       "<style scoped>\n",
       "    .dataframe tbody tr th:only-of-type {\n",
       "        vertical-align: middle;\n",
       "    }\n",
       "\n",
       "    .dataframe tbody tr th {\n",
       "        vertical-align: top;\n",
       "    }\n",
       "\n",
       "    .dataframe thead th {\n",
       "        text-align: right;\n",
       "    }\n",
       "</style>\n",
       "<table border=\"1\" class=\"dataframe\">\n",
       "  <thead>\n",
       "    <tr style=\"text-align: right;\">\n",
       "      <th></th>\n",
       "      <th>A</th>\n",
       "      <th>B</th>\n",
       "      <th>C</th>\n",
       "      <th>D</th>\n",
       "    </tr>\n",
       "  </thead>\n",
       "  <tbody>\n",
       "    <tr>\n",
       "      <td>0</td>\n",
       "      <td>0.676101</td>\n",
       "      <td>-1.692695</td>\n",
       "      <td>-0.657768</td>\n",
       "      <td>-0.622341</td>\n",
       "    </tr>\n",
       "    <tr>\n",
       "      <td>10</td>\n",
       "      <td>0.959856</td>\n",
       "      <td>-3.667531</td>\n",
       "      <td>-3.217708</td>\n",
       "      <td>2.346964</td>\n",
       "    </tr>\n",
       "    <tr>\n",
       "      <td>20</td>\n",
       "      <td>1.163834</td>\n",
       "      <td>-4.352902</td>\n",
       "      <td>-2.613216</td>\n",
       "      <td>3.708060</td>\n",
       "    </tr>\n",
       "    <tr>\n",
       "      <td>30</td>\n",
       "      <td>1.370043</td>\n",
       "      <td>-4.364220</td>\n",
       "      <td>-3.187868</td>\n",
       "      <td>3.138866</td>\n",
       "    </tr>\n",
       "    <tr>\n",
       "      <td>40</td>\n",
       "      <td>2.756211</td>\n",
       "      <td>-4.564008</td>\n",
       "      <td>-2.557321</td>\n",
       "      <td>3.244417</td>\n",
       "    </tr>\n",
       "    <tr>\n",
       "      <td>50</td>\n",
       "      <td>2.950026</td>\n",
       "      <td>-4.441731</td>\n",
       "      <td>-3.389972</td>\n",
       "      <td>4.543619</td>\n",
       "    </tr>\n",
       "    <tr>\n",
       "      <td>60</td>\n",
       "      <td>2.908168</td>\n",
       "      <td>-4.834979</td>\n",
       "      <td>-5.279652</td>\n",
       "      <td>3.809618</td>\n",
       "    </tr>\n",
       "    <tr>\n",
       "      <td>70</td>\n",
       "      <td>2.911822</td>\n",
       "      <td>-5.115426</td>\n",
       "      <td>-3.466744</td>\n",
       "      <td>4.619286</td>\n",
       "    </tr>\n",
       "    <tr>\n",
       "      <td>80</td>\n",
       "      <td>3.766129</td>\n",
       "      <td>-4.484869</td>\n",
       "      <td>-1.841075</td>\n",
       "      <td>3.739798</td>\n",
       "    </tr>\n",
       "    <tr>\n",
       "      <td>90</td>\n",
       "      <td>5.035767</td>\n",
       "      <td>-4.931933</td>\n",
       "      <td>-1.708340</td>\n",
       "      <td>5.846971</td>\n",
       "    </tr>\n",
       "  </tbody>\n",
       "</table>\n",
       "</div>"
      ],
      "text/plain": [
       "           A         B         C         D\n",
       "0   0.676101 -1.692695 -0.657768 -0.622341\n",
       "10  0.959856 -3.667531 -3.217708  2.346964\n",
       "20  1.163834 -4.352902 -2.613216  3.708060\n",
       "30  1.370043 -4.364220 -3.187868  3.138866\n",
       "40  2.756211 -4.564008 -2.557321  3.244417\n",
       "50  2.950026 -4.441731 -3.389972  4.543619\n",
       "60  2.908168 -4.834979 -5.279652  3.809618\n",
       "70  2.911822 -5.115426 -3.466744  4.619286\n",
       "80  3.766129 -4.484869 -1.841075  3.739798\n",
       "90  5.035767 -4.931933 -1.708340  5.846971"
      ]
     },
     "execution_count": 6,
     "metadata": {},
     "output_type": "execute_result"
    }
   ],
   "source": [
    "#DataFrame을 통한 line plot 그리기\n",
    "df =pd.DataFrame(np.random.randn(10,4).cumsum(axis = 0),\n",
    "               columns = ['A','B','C','D'],\n",
    "               index = np.arange(0,100,10))\n",
    "df"
   ]
  },
  {
   "cell_type": "code",
   "execution_count": 7,
   "metadata": {},
   "outputs": [
    {
     "data": {
      "text/plain": [
       "<matplotlib.axes._subplots.AxesSubplot at 0x24aaa565408>"
      ]
     },
     "execution_count": 7,
     "metadata": {},
     "output_type": "execute_result"
    },
    {
     "data": {
      "image/png": "[encoded data removed]",
      "text/plain": [
       "<Figure size 432x288 with 1 Axes>"
      ]
     },
     "metadata": {
      "needs_background": "light"
     },
     "output_type": "display_data"
    }
   ],
   "source": [
    "df.plot()"
   ]
  },
  {
   "cell_type": "code",
   "execution_count": 8,
   "metadata": {},
   "outputs": [
    {
     "data": {
      "text/plain": [
       "<matplotlib.axes._subplots.AxesSubplot at 0x24aaa5ecc48>"
      ]
     },
     "execution_count": 8,
     "metadata": {},
     "output_type": "execute_result"
    },
    {
     "data": {
      "image/png": "[encoded data removed]",
      "text/plain": [
       "<Figure size 432x288 with 1 Axes>"
      ]
     },
     "metadata": {
      "needs_background": "light"
     },
     "output_type": "display_data"
    }
   ],
   "source": [
    "#위위 그래프에서 하나의 열만 보고싶다면?\n",
    "df['B'].plot()"
   ]
  },
  {
   "cell_type": "markdown",
   "metadata": {},
   "source": [
    "# Bar Plot 그리기 \n"
   ]
  },
  {
   "cell_type": "code",
   "execution_count": 9,
   "metadata": {},
   "outputs": [
    {
     "data": {
      "text/plain": [
       "a    0.318281\n",
       "b    0.241887\n",
       "c    0.268618\n",
       "d    0.552785\n",
       "e    0.009651\n",
       "f    0.003872\n",
       "g    0.882003\n",
       "h    0.689152\n",
       "i    0.908368\n",
       "j    0.935516\n",
       "k    0.764189\n",
       "l    0.908250\n",
       "m    0.814156\n",
       "n    0.998256\n",
       "o    0.487773\n",
       "p    0.177403\n",
       "dtype: float64"
      ]
     },
     "execution_count": 9,
     "metadata": {},
     "output_type": "execute_result"
    }
   ],
   "source": [
    "s2 =pd.Series(np.random.rand(16),index =list('abcdefghijklmnop'));s2"
   ]
  },
  {
   "cell_type": "code",
   "execution_count": 10,
   "metadata": {},
   "outputs": [
    {
     "data": {
      "text/plain": [
       "<matplotlib.axes._subplots.AxesSubplot at 0x24aaa65d888>"
      ]
     },
     "execution_count": 10,
     "metadata": {},
     "output_type": "execute_result"
    },
    {
     "data": {
      "image/png": "[encoded data removed]",
      "text/plain": [
       "<Figure size 432x288 with 1 Axes>"
      ]
     },
     "metadata": {
      "needs_background": "light"
     },
     "output_type": "display_data"
    }
   ],
   "source": [
    "s2.plot(kind ='bar') #가로뱡향의 bar plot 은 barh"
   ]
  },
  {
   "cell_type": "code",
   "execution_count": 15,
   "metadata": {},
   "outputs": [
    {
     "data": {
      "text/html": [
       "<div>\n",
       "<style scoped>\n",
       "    .dataframe tbody tr th:only-of-type {\n",
       "        vertical-align: middle;\n",
       "    }\n",
       "\n",
       "    .dataframe tbody tr th {\n",
       "        vertical-align: top;\n",
       "    }\n",
       "\n",
       "    .dataframe thead th {\n",
       "        text-align: right;\n",
       "    }\n",
       "</style>\n",
       "<table border=\"1\" class=\"dataframe\">\n",
       "  <thead>\n",
       "    <tr style=\"text-align: right;\">\n",
       "      <th>Genus</th>\n",
       "      <th>A</th>\n",
       "      <th>B</th>\n",
       "      <th>C</th>\n",
       "      <th>D</th>\n",
       "    </tr>\n",
       "  </thead>\n",
       "  <tbody>\n",
       "    <tr>\n",
       "      <td>one</td>\n",
       "      <td>0.592659</td>\n",
       "      <td>0.752410</td>\n",
       "      <td>0.727678</td>\n",
       "      <td>0.788843</td>\n",
       "    </tr>\n",
       "    <tr>\n",
       "      <td>two</td>\n",
       "      <td>0.520746</td>\n",
       "      <td>0.077054</td>\n",
       "      <td>0.937238</td>\n",
       "      <td>0.326041</td>\n",
       "    </tr>\n",
       "    <tr>\n",
       "      <td>three</td>\n",
       "      <td>0.967736</td>\n",
       "      <td>0.427371</td>\n",
       "      <td>0.316075</td>\n",
       "      <td>0.120755</td>\n",
       "    </tr>\n",
       "    <tr>\n",
       "      <td>four</td>\n",
       "      <td>0.504530</td>\n",
       "      <td>0.587774</td>\n",
       "      <td>0.160179</td>\n",
       "      <td>0.195321</td>\n",
       "    </tr>\n",
       "    <tr>\n",
       "      <td>five</td>\n",
       "      <td>0.587130</td>\n",
       "      <td>0.558007</td>\n",
       "      <td>0.684138</td>\n",
       "      <td>0.983398</td>\n",
       "    </tr>\n",
       "    <tr>\n",
       "      <td>six</td>\n",
       "      <td>0.937713</td>\n",
       "      <td>0.820281</td>\n",
       "      <td>0.505479</td>\n",
       "      <td>0.186858</td>\n",
       "    </tr>\n",
       "  </tbody>\n",
       "</table>\n",
       "</div>"
      ],
      "text/plain": [
       "Genus         A         B         C         D\n",
       "one    0.592659  0.752410  0.727678  0.788843\n",
       "two    0.520746  0.077054  0.937238  0.326041\n",
       "three  0.967736  0.427371  0.316075  0.120755\n",
       "four   0.504530  0.587774  0.160179  0.195321\n",
       "five   0.587130  0.558007  0.684138  0.983398\n",
       "six    0.937713  0.820281  0.505479  0.186858"
      ]
     },
     "execution_count": 15,
     "metadata": {},
     "output_type": "execute_result"
    }
   ],
   "source": [
    "df2 =pd.DataFrame(np.random.rand(6,4),\n",
    "                  index =['one','two','three','four','five','six'],\n",
    "                  columns =pd.Index(['A','B','C','D'],name = 'Genus'))\n",
    "df2"
   ]
  },
  {
   "cell_type": "code",
   "execution_count": 19,
   "metadata": {},
   "outputs": [
    {
     "data": {
      "text/plain": [
       "<matplotlib.axes._subplots.AxesSubplot at 0x24aaa669d48>"
      ]
     },
     "execution_count": 19,
     "metadata": {},
     "output_type": "execute_result"
    },
    {
     "data": {
      "image/png": "[encoded data removed]",
      "text/plain": [
       "<Figure size 432x288 with 1 Axes>"
      ]
     },
     "metadata": {
      "needs_background": "light"
     },
     "output_type": "display_data"
    }
   ],
   "source": [
    "# 누적 그래프로\n",
    "df2.plot(kind ='bar',stacked =True) #stacked =FALSE 가 디폴트값"
   ]
  },
  {
   "cell_type": "markdown",
   "metadata": {},
   "source": [
    "# Histogram\n",
    "    - 인덱스가 필요없음 \n",
    "    -df.hist(bins, normed)\n",
    "    - bins: x축의 구간 갯수 ,normed: 정규화한 값을 bar의 높이로 사용"
   ]
  },
  {
   "cell_type": "code",
   "execution_count": 20,
   "metadata": {},
   "outputs": [
    {
     "data": {
      "text/plain": [
       "0     -1.460122\n",
       "1      0.924244\n",
       "2      1.314395\n",
       "3     -1.235333\n",
       "4      0.184307\n",
       "         ...   \n",
       "195   -0.022076\n",
       "196    1.385441\n",
       "197    0.481695\n",
       "198   -0.910448\n",
       "199    1.935238\n",
       "Length: 200, dtype: float64"
      ]
     },
     "execution_count": 20,
     "metadata": {},
     "output_type": "execute_result"
    }
   ],
   "source": [
    "s3 = pd.Series(np.random.normal(0,1,size = 200));s3"
   ]
  },
  {
   "cell_type": "code",
   "execution_count": 21,
   "metadata": {},
   "outputs": [
    {
     "data": {
      "text/plain": [
       "<matplotlib.axes._subplots.AxesSubplot at 0x24aa90f1508>"
      ]
     },
     "execution_count": 21,
     "metadata": {},
     "output_type": "execute_result"
    },
    {
     "data": {
      "image/png": "[encoded data removed]",
      "text/plain": [
       "<Figure size 432x288 with 1 Axes>"
      ]
     },
     "metadata": {
      "needs_background": "light"
     },
     "output_type": "display_data"
    }
   ],
   "source": [
    "s3.hist()"
   ]
  },
  {
   "cell_type": "code",
   "execution_count": null,
   "metadata": {},
   "outputs": [],
   "source": [
    "Scatter plot(산점도)\n",
    "    - 서로 다른 두 개의 독립변수에 대해 두 변수가 어떤 관계가 있는지 살펴보기위해\n",
    "    "
   ]
  },
  {
   "cell_type": "code",
   "execution_count": 22,
   "metadata": {},
   "outputs": [
    {
     "data": {
      "text/plain": [
       "array([[ 2.37115960e-01, -1.91790956e+00],\n",
       "       [ 1.00638169e+00, -5.84128026e+00],\n",
       "       [ 1.41783652e+00,  1.80638723e+00],\n",
       "       [-3.62224818e-01, -3.64785685e+00],\n",
       "       [ 1.24112836e-01, -9.37114570e+00],\n",
       "       [ 2.02186350e-01, -4.87255448e+00],\n",
       "       [ 8.60046886e-01, -6.48817563e+00],\n",
       "       [-3.76190451e-02,  2.68607780e+00],\n",
       "       [ 1.68879405e-01, -9.47510300e+00],\n",
       "       [ 5.99253591e-01, -3.71748589e+00],\n",
       "       [ 2.26632834e+00, -3.65544653e+00],\n",
       "       [-8.49661243e-01, -1.07443291e+00],\n",
       "       [ 1.36711537e-01, -9.53857147e+00],\n",
       "       [ 6.11637541e-01, -5.20671005e-01],\n",
       "       [-8.50966778e-02,  1.86699644e+00],\n",
       "       [ 1.07198438e+00,  1.39021479e+00],\n",
       "       [ 3.62898568e-01, -8.21096985e+00],\n",
       "       [-1.46687392e-01,  5.53248026e+00],\n",
       "       [ 1.19590968e+00, -4.82272421e+00],\n",
       "       [ 2.27084812e+00,  4.01006653e+00],\n",
       "       [ 5.86154070e-01,  2.89689056e+00],\n",
       "       [ 4.15755369e-01,  1.47272148e+00],\n",
       "       [ 2.37159435e+00,  1.16657344e+00],\n",
       "       [ 2.73344859e+00, -3.01071421e+00],\n",
       "       [ 1.40159965e+00, -1.18880989e+00],\n",
       "       [ 2.68255541e+00, -2.27043299e+00],\n",
       "       [-4.10242067e-03, -5.97544774e+00],\n",
       "       [ 1.82782120e+00, -5.56973494e+00],\n",
       "       [ 6.99448846e-02, -4.42555870e+00],\n",
       "       [ 3.89752592e-01,  9.10546507e-01],\n",
       "       [ 2.71145059e+00, -5.69355365e-01],\n",
       "       [ 1.71956573e+00, -1.48886298e+00],\n",
       "       [-4.44444577e-01, -6.41754658e-01],\n",
       "       [ 1.59142013e+00, -4.59427756e+00],\n",
       "       [ 1.15649879e+00, -6.38158546e+00],\n",
       "       [ 4.10209810e-01, -4.28742082e+00],\n",
       "       [-5.06795811e-01, -2.30399395e+00],\n",
       "       [ 6.10366845e-01, -1.23102187e+00],\n",
       "       [ 1.22016397e+00, -7.11806294e-02],\n",
       "       [ 2.85273716e-01, -1.05664811e+01],\n",
       "       [-8.61266117e-02, -6.82154135e+00],\n",
       "       [ 9.72511744e-02, -1.76448152e+00],\n",
       "       [ 7.30236790e-01, -8.54980270e-01],\n",
       "       [ 2.12639381e+00,  4.20096157e-01],\n",
       "       [ 1.76132821e-01, -4.05318651e+00],\n",
       "       [ 9.87577317e-01, -7.66871214e-01],\n",
       "       [ 1.91140213e+00, -5.80469876e+00],\n",
       "       [ 1.83463600e+00, -6.37250049e-02],\n",
       "       [ 1.90801120e+00,  5.53556245e-01],\n",
       "       [ 5.76018057e-01,  3.62899004e+00],\n",
       "       [ 1.50909010e+00,  6.73943564e+00],\n",
       "       [-3.95666842e-02,  2.69142836e+00],\n",
       "       [ 1.67293396e+00,  2.10456990e+00],\n",
       "       [ 1.08112837e+00, -1.94857860e+00],\n",
       "       [ 2.84900309e+00,  1.01385556e+00],\n",
       "       [-2.31016540e-01,  1.84261995e+00],\n",
       "       [ 8.10021450e-01, -6.31162076e+00],\n",
       "       [ 2.97695024e+00,  1.52318120e+00],\n",
       "       [ 7.18630483e-01, -4.73948633e+00],\n",
       "       [ 1.86833236e+00, -1.56790207e+00],\n",
       "       [ 3.07753316e+00, -5.72911456e-01],\n",
       "       [ 1.21429758e+00,  1.28315121e+00],\n",
       "       [ 1.51113251e+00, -3.81565907e+00],\n",
       "       [ 1.82788811e+00, -3.32077765e+00],\n",
       "       [ 5.00208638e-01, -8.59775599e+00],\n",
       "       [ 7.80947500e-02, -4.82205898e+00],\n",
       "       [ 9.58857615e-01,  8.06562641e+00],\n",
       "       [-1.34221688e-01, -9.10233788e+00],\n",
       "       [ 2.23018526e+00, -4.80580512e+00],\n",
       "       [ 6.12345553e-01, -1.91531224e+00],\n",
       "       [ 9.63864498e-01, -1.17082101e+00],\n",
       "       [ 1.91762086e+00, -2.58615993e+00],\n",
       "       [ 1.82826498e-01, -6.17224246e+00],\n",
       "       [ 1.88279003e+00, -6.11453688e+00],\n",
       "       [-3.52639200e-02, -1.88298140e+00],\n",
       "       [-1.02105991e+00, -4.05170654e+00],\n",
       "       [-1.52897930e-01,  4.17627533e-02],\n",
       "       [ 1.35613998e-01, -1.97819358e+00],\n",
       "       [ 1.40259405e-01,  3.75815512e+00],\n",
       "       [ 4.54324452e-01,  6.53542626e+00],\n",
       "       [ 9.95877487e-01,  1.14644884e+00],\n",
       "       [ 1.06849804e-01,  1.78638195e+00],\n",
       "       [ 1.78140828e+00, -3.52489715e+00],\n",
       "       [ 2.58073396e-01, -2.24247049e+00],\n",
       "       [ 9.37772167e-01,  1.18830652e+00],\n",
       "       [ 3.46004458e+00, -9.87300976e+00],\n",
       "       [ 9.17832132e-01, -2.28689453e+00],\n",
       "       [ 8.57130315e-01,  1.81826963e+00],\n",
       "       [ 1.12122795e+00,  1.00487791e+00],\n",
       "       [-5.75015271e-01, -6.54970257e+00],\n",
       "       [ 1.93679029e+00, -1.93255294e+00],\n",
       "       [ 9.66674883e-01, -3.53881296e+00],\n",
       "       [ 1.73376365e+00, -2.36227795e+00],\n",
       "       [ 1.08758345e+00, -3.34317363e+00],\n",
       "       [ 1.46090026e+00, -2.10370262e+00],\n",
       "       [ 1.24920274e+00,  9.52143845e-01],\n",
       "       [ 7.92638233e-01, -7.70012206e+00],\n",
       "       [-4.38342830e-01, -5.67637769e+00],\n",
       "       [-1.02944144e+00, -4.60528707e+00],\n",
       "       [ 6.52948668e-03,  2.00743245e+00]])"
      ]
     },
     "execution_count": 22,
     "metadata": {},
     "output_type": "execute_result"
    }
   ],
   "source": [
    "x1 = np.random.normal(1,1,size = (100,1))\n",
    "x2 = np.random.normal(-2,4,size =(100,1))\n",
    "X =np.concatenate((x1,x2),axis =1)\n",
    "X"
   ]
  },
  {
   "cell_type": "code",
   "execution_count": 23,
   "metadata": {},
   "outputs": [
    {
     "data": {
      "text/plain": [
       "<matplotlib.collections.PathCollection at 0x24aac4efc48>"
      ]
     },
     "execution_count": 23,
     "metadata": {},
     "output_type": "execute_result"
    },
    {
     "data": {
      "image/png": "[encoded data removed]",
      "text/plain": [
       "<Figure size 432x288 with 1 Axes>"
      ]
     },
     "metadata": {
      "needs_background": "light"
     },
     "output_type": "display_data"
    }
   ],
   "source": [
    "plt.scatter(x1,x2)"
   ]
  },
  {
   "cell_type": "code",
   "execution_count": 24,
   "metadata": {},
   "outputs": [
    {
     "data": {
      "text/plain": [
       "<Figure size 432x288 with 0 Axes>"
      ]
     },
     "metadata": {},
     "output_type": "display_data"
    }
   ],
   "source": [
    "fig =plt.figure()"
   ]
  },
  {
   "cell_type": "markdown",
   "metadata": {},
   "source": [
    "# subplot 추가 \n",
    "    - (1) fig =plt.figure() 에서 fig.add_subplots \n",
    "    - (2) fig, axes = plt.subplots(1,2) ,만들고싶은 subplot 크기 "
   ]
  },
  {
   "cell_type": "code",
   "execution_count": 45,
   "metadata": {},
   "outputs": [],
   "source": [
    "ax1 = fig.add_subplot(2,2,2)  #첫번째 2와 두번째2 는 subplot의 크기를 말해준다. \n",
    "# 세번째 2는 2*2 subplot 중에 2번째임을 말해준다. "
   ]
  },
  {
   "cell_type": "code",
   "execution_count": 46,
   "metadata": {
    "scrolled": true
   },
   "outputs": [
    {
     "data": {
      "image/png": "[encoded data removed]",
      "text/plain": [
       "<Figure size 432x288 with 6 Axes>"
      ]
     },
     "metadata": {
      "needs_background": "light"
     },
     "output_type": "display_data"
    }
   ],
   "source": [
    "fig, axes = plt.subplots(2,3)"
   ]
  },
  {
   "cell_type": "code",
   "execution_count": 50,
   "metadata": {},
   "outputs": [
    {
     "data": {
      "image/png": "[encoded data removed]",
      "text/plain": [
       "<Figure size 648x216 with 3 Axes>"
      ]
     },
     "metadata": {
      "needs_background": "light"
     },
     "output_type": "display_data"
    }
   ],
   "source": [
    "names = ['group_a', 'group_b', 'group_c']\n",
    "values = [1, 10, 100]\n",
    "\n",
    "plt.figure(figsize=(9, 3))\n",
    "\n",
    "plt.subplot(131)\n",
    "plt.bar(names, values)\n",
    "plt.subplot(132)\n",
    "plt.scatter(names, values)\n",
    "plt.subplot(133)\n",
    "plt.plot(names, values)\n",
    "plt.suptitle('Categorical Plotting')\n",
    "plt.show()"
   ]
  },
  {
   "cell_type": "code",
   "execution_count": 51,
   "metadata": {},
   "outputs": [
    {
     "data": {
      "text/plain": [
       "[<matplotlib.lines.Line2D at 0x24aae197108>]"
      ]
     },
     "execution_count": 51,
     "metadata": {},
     "output_type": "execute_result"
    },
    {
     "data": {
      "image/png": "[encoded data removed]",
      "text/plain": [
       "<Figure size 432x288 with 1 Axes>"
      ]
     },
     "metadata": {
      "needs_background": "light"
     },
     "output_type": "display_data"
    }
   ],
   "source": [
    "#line은 두께 \n",
    "x = [1,2,3,4]\n",
    "y = [6,5,8,3]\n",
    "\n",
    "plt.plot(x,y,linewidth = 1.5)"
   ]
  },
  {
   "cell_type": "code",
   "execution_count": 56,
   "metadata": {},
   "outputs": [
    {
     "data": {
      "image/png": "[encoded data removed]",
      "text/plain": [
       "<Figure size 432x288 with 1 Axes>"
      ]
     },
     "metadata": {
      "needs_background": "light"
     },
     "output_type": "display_data"
    }
   ],
   "source": [
    "line,= plt.plot(x,y,'k.-') #굳이 각각에 대해 언급하지 않아도 아래와 같이 연속적으로 나타내도됨\n",
    "line.set_antialiased(True) #이것을 사용사면 선과 곡선을 더 부드럽게 만들어준다 "
   ]
  },
  {
   "cell_type": "markdown",
   "metadata": {},
   "source": [
    "# Plot 꾸미기\n"
   ]
  },
  {
   "cell_type": "code",
   "execution_count": 52,
   "metadata": {},
   "outputs": [
    {
     "data": {
      "text/plain": [
       "[<matplotlib.lines.Line2D at 0x24aae1f6c08>]"
      ]
     },
     "execution_count": 52,
     "metadata": {},
     "output_type": "execute_result"
    },
    {
     "data": {
      "image/png": "[encoded data removed]",
      "text/plain": [
       "<Figure size 432x288 with 1 Axes>"
      ]
     },
     "metadata": {
      "needs_background": "light"
     },
     "output_type": "display_data"
    }
   ],
   "source": [
    "plt.plot(np.random.randn(50),color = 'g',marker='o',linestyle = '--')"
   ]
  },
  {
   "cell_type": "code",
   "execution_count": 58,
   "metadata": {},
   "outputs": [
    {
     "data": {
      "text/plain": [
       "<matplotlib.axes._subplots.AxesSubplot at 0x24aae4af6c8>"
      ]
     },
     "execution_count": 58,
     "metadata": {},
     "output_type": "execute_result"
    },
    {
     "data": {
      "image/png": "[encoded data removed]",
      "text/plain": [
       "<Figure size 432x288 with 2 Axes>"
      ]
     },
     "metadata": {
      "needs_background": "light"
     },
     "output_type": "display_data"
    }
   ],
   "source": [
    "fig, axes = plt.subplots(2,1)\n",
    "data = pd.Series(np.random.rand(16),index =list('abcdefghijklmnop'))\n",
    "data.plot(kind= 'bar', ax = axes[0],color='b',alpha =0.7)\n",
    "data.plot(kind='barh', ax =axes[1],color ='r',alpha =0.3)"
   ]
  },
  {
   "cell_type": "code",
   "execution_count": 59,
   "metadata": {},
   "outputs": [
    {
     "ename": "AttributeError",
     "evalue": "'Figure' object has no attribute 'add_subplots'",
     "output_type": "error",
     "traceback": [
      "\u001b[1;31m---------------------------------------------------------------------------\u001b[0m",
      "\u001b[1;31mAttributeError\u001b[0m                            Traceback (most recent call last)",
      "\u001b[1;32m<ipython-input-59-79be50c49703>\u001b[0m in \u001b[0;36m<module>\u001b[1;34m\u001b[0m\n\u001b[0;32m      1\u001b[0m \u001b[0mfig\u001b[0m \u001b[1;33m=\u001b[0m \u001b[0mplt\u001b[0m\u001b[1;33m.\u001b[0m\u001b[0mfigure\u001b[0m\u001b[1;33m(\u001b[0m\u001b[1;33m)\u001b[0m\u001b[1;33m\u001b[0m\u001b[1;33m\u001b[0m\u001b[0m\n\u001b[1;32m----> 2\u001b[1;33m \u001b[0max\u001b[0m \u001b[1;33m=\u001b[0m \u001b[0mfig\u001b[0m\u001b[1;33m.\u001b[0m\u001b[0madd_subplots\u001b[0m\u001b[1;33m(\u001b[0m\u001b[1;36m1\u001b[0m\u001b[1;33m,\u001b[0m\u001b[1;36m1\u001b[0m\u001b[1;33m,\u001b[0m\u001b[1;36m1\u001b[0m\u001b[1;33m)\u001b[0m\u001b[1;33m\u001b[0m\u001b[1;33m\u001b[0m\u001b[0m\n\u001b[0m\u001b[0;32m      3\u001b[0m \u001b[0max\u001b[0m\u001b[1;33m.\u001b[0m\u001b[0mplot\u001b[0m\u001b[1;33m(\u001b[0m\u001b[0mnp\u001b[0m\u001b[1;33m.\u001b[0m\u001b[0mrandom\u001b[0m\u001b[1;33m.\u001b[0m\u001b[0mrandn\u001b[0m\u001b[1;33m(\u001b[0m\u001b[1;36m1000\u001b[0m\u001b[1;33m)\u001b[0m\u001b[1;33m.\u001b[0m\u001b[0mcumsum\u001b[0m\u001b[1;33m(\u001b[0m\u001b[1;33m)\u001b[0m\u001b[1;33m)\u001b[0m\u001b[1;33m\u001b[0m\u001b[1;33m\u001b[0m\u001b[0m\n",
      "\u001b[1;31mAttributeError\u001b[0m: 'Figure' object has no attribute 'add_subplots'"
     ]
    },
    {
     "data": {
      "text/plain": [
       "<Figure size 432x288 with 0 Axes>"
      ]
     },
     "metadata": {},
     "output_type": "display_data"
    }
   ],
   "source": [
    "fig = plt.figure()\n",
    "ax = fig.add_subplots(1,1,1)\n",
    "ax.plot(np.random.randn(1000).cumsum())"
   ]
  },
  {
   "cell_type": "code",
   "execution_count": null,
   "metadata": {},
   "outputs": [],
   "source": []
  },
  {
   "cell_type": "code",
   "execution_count": null,
   "metadata": {},
   "outputs": [],
   "source": []
  },
  {
   "cell_type": "code",
   "execution_count": null,
   "metadata": {},
   "outputs": [],
   "source": []
  },
  {
   "cell_type": "code",
   "execution_count": null,
   "metadata": {},
   "outputs": [],
   "source": []
  },
  {
   "cell_type": "code",
   "execution_count": null,
   "metadata": {},
   "outputs": [],
   "source": []
  },
  {
   "cell_type": "code",
   "execution_count": null,
   "metadata": {},
   "outputs": [],
   "source": []
  }
 ],
 "metadata": {
  "kernelspec": {
   "display_name": "Python 3",
   "language": "python",
   "name": "python3"
  },
  "language_info": {
   "codemirror_mode": {
    "name": "ipython",
    "version": 3
   },
   "file_extension": ".py",
   "mimetype": "text/x-python",
   "name": "python",
   "nbconvert_exporter": "python",
   "pygments_lexer": "ipython3",
   "version": "3.7.4"
  }
 },
 "nbformat": 4,
 "nbformat_minor": 2
}
